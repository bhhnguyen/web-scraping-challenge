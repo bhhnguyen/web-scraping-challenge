{
 "cells": [
  {
   "cell_type": "code",
   "execution_count": 16,
   "metadata": {},
   "outputs": [],
   "source": [
    "from splinter import Browser\n",
    "from bs4 import BeautifulSoup as bs\n",
    "import time\n",
    "import os\n",
    "import pandas as pd\n",
    "import requests"
   ]
  },
  {
   "cell_type": "code",
   "execution_count": 17,
   "metadata": {},
   "outputs": [],
   "source": [
    "executable_path = {\"executable_path\": \"chromedriver.exe\"}\n",
    "browser= Browser(\"chrome\", **executable_path, headless=False)"
   ]
  },
  {
   "cell_type": "code",
   "execution_count": 18,
   "metadata": {},
   "outputs": [],
   "source": [
    "scrape_dict = {}"
   ]
  },
  {
   "cell_type": "code",
   "execution_count": 19,
   "metadata": {},
   "outputs": [],
   "source": [
    "url = \"https://mars.nasa.gov/news/\"\n",
    "browser.visit(url)\n",
    "# Scrape page into Soup\n",
    "html = browser.html\n",
    "soup = bs(html, \"lxml\")"
   ]
  },
  {
   "cell_type": "code",
   "execution_count": 20,
   "metadata": {},
   "outputs": [],
   "source": [
    "item_list = soup.find(\"ul\", class_=\"item_list\")\n",
    "slides = item_list.find_all(\"li\", class_=\"slide\")\n",
    "content_title = slides[0].find(\"div\", class_=\"content_title\").text\n",
    "article_body = slides[0].find(\"div\", class_=\"article_teaser_body\").text\n",
    "scrape_dict['news_title'] = content_title\n",
    "scrape_dict['news_p'] = article_body"
   ]
  },
  {
   "cell_type": "code",
   "execution_count": 36,
   "metadata": {},
   "outputs": [],
   "source": [
    "url = \"https://www.jpl.nasa.gov/spaceimages/?search=&category=Mars\"\n",
    "browser.visit(url)\n",
    "# Scrape page into Soup\n",
    "html = browser.html\n",
    "soup = bs(html, \"lxml\")"
   ]
  },
  {
   "cell_type": "code",
   "execution_count": 41,
   "metadata": {},
   "outputs": [
    {
     "name": "stdout",
     "output_type": "stream",
     "text": [
      "jpl.nasa.gov/spaceimages/images/largesize/PIA23859_hires.jpg\n"
     ]
    }
   ],
   "source": [
    "# NOTE: I assumed the 'featured Mars image' is the first one in the gallery\n",
    "# since the featured image at the top is not about Mars.\n",
    "\n",
    "carousel = soup.find(\"section\", class_=\"grid_gallery module grid_view\")\n",
    "space_img = carousel.find(\"a\", class_=\"fancybox\")['data-fancybox-href']\n",
    "space_img = os.path.join(\"https://www.jpl.nasa.gov/\", space_img[1:])\n",
    "scrape_dict['featured_image_url'] = space_img"
   ]
  },
  {
   "cell_type": "code",
   "execution_count": 65,
   "metadata": {},
   "outputs": [],
   "source": [
    "url = \"https://twitter.com/marswxreport?lang=en\"\n",
    "response = requests.get(url)\n",
    "# Scrape page into Soup\n",
    "soup = bs(response.text, \"lxml\")"
   ]
  },
  {
   "cell_type": "code",
   "execution_count": 66,
   "metadata": {},
   "outputs": [],
   "source": [
    "tweet_container = soup.find(\"div\", class_=\"js-tweet-text-container\")\n",
    "tweet_text = tweet_container.text\n",
    "scrape_dict['mars_weather'] = tweet_text.replace('\\n', '')"
   ]
  },
  {
   "cell_type": "code",
   "execution_count": 11,
   "metadata": {},
   "outputs": [],
   "source": [
    "url = \"https://space-facts.com/mars/\"\n",
    "tables = pd.read_html(url)\n",
    "df = tables[0]\n",
    "scrape_dict['table_html'] = df.to_html(header=False,index=False).replace('\\n', '')"
   ]
  },
  {
   "cell_type": "code",
   "execution_count": 61,
   "metadata": {},
   "outputs": [],
   "source": [
    "url = \"https://astrogeology.usgs.gov/search/results?q=hemisphere+enhanced&k1=target&v1=Mars\"\n",
    "browser.visit(url)\n",
    "# Scrape page into Soup\n",
    "html = browser.html\n",
    "soup = bs(html, \"lxml\")"
   ]
  },
  {
   "cell_type": "code",
   "execution_count": null,
   "metadata": {},
   "outputs": [],
   "source": [
    "# Unfortunately, this might not load.\n",
    "\n",
    "url = \"https://astrogeology.usgs.gov/search/results?q=hemisphere+enhanced&k1=target&v1=Mars\"\n",
    "browser.visit(url)\n",
    "time.sleep(10)\n",
    "hemis = []\n",
    "links = browser.find_by_css(\"a.product-item h3\")\n",
    "for x in range(len(links)):\n",
    "    hemi = {}\n",
    "    browser.find_by_css(\"a.product-item h3\")[x].click()\n",
    "    time.sleep(5)\n",
    "    img = browser.links.find_by_text(\"Sample\").first\n",
    "    hemi['title'] = browser.find_by_css(\"h2.title\").text\n",
    "    hemi['img_url'] = img['href']\n",
    "    hemis.append(hemi)\n",
    "    browser.back()\n",
    "    time.sleep(5)\n",
    "scrape_dict['hemisphere_img_urls'] = hemis"
   ]
  },
  {
   "cell_type": "code",
   "execution_count": null,
   "metadata": {},
   "outputs": [],
   "source": [
    "browser.quit()"
   ]
  },
  {
   "cell_type": "code",
   "execution_count": null,
   "metadata": {},
   "outputs": [],
   "source": [
    "# if __name__ == \"__main__\":\n",
    "#     data = scrape_info()\n",
    "#     print(data)"
   ]
  }
 ],
 "metadata": {
  "kernelspec": {
   "display_name": "Python 3",
   "language": "python",
   "name": "python3"
  },
  "language_info": {
   "codemirror_mode": {
    "name": "ipython",
    "version": 3
   },
   "file_extension": ".py",
   "mimetype": "text/x-python",
   "name": "python",
   "nbconvert_exporter": "python",
   "pygments_lexer": "ipython3",
   "version": "3.7.4"
  }
 },
 "nbformat": 4,
 "nbformat_minor": 2
}
